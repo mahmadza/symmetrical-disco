{
 "cells": [
  {
   "cell_type": "code",
   "execution_count": 1,
   "id": "aed4fcd6-46c0-40aa-a4f6-eb09093eddba",
   "metadata": {},
   "outputs": [],
   "source": [
    "import json"
   ]
  },
  {
   "cell_type": "code",
   "execution_count": 2,
   "id": "d3c0834a-46a1-411a-b0e8-15bae12b68a9",
   "metadata": {},
   "outputs": [],
   "source": [
    "f = open('/Users/mamduhzabidi/Library/Application Support/Google/Chrome/Default/Bookmarks')"
   ]
  },
  {
   "cell_type": "code",
   "execution_count": 4,
   "id": "6b7bdac1-39ed-4214-933a-dff92b4def1b",
   "metadata": {},
   "outputs": [],
   "source": [
    "data = json.load(f)"
   ]
  },
  {
   "cell_type": "code",
   "execution_count": 15,
   "id": "f86bbaa1-7354-486c-ab3a-c8b26b2c0c8f",
   "metadata": {},
   "outputs": [
    {
     "name": "stdout",
     "output_type": "stream",
     "text": [
      "https://www.google.com/amp/s/vulcanpost.com/718810/list-affordable-therapy-malaysia-mental-health-services/amp/\n",
      "https://www.timeout.com/kuala-lumpur/art/art-bonding\n",
      "https://www.fiercepharma.com/pharma/roche-s-rosy-pandemic-scenario-it-takes-a-2b-hit-to-covid-sales-year\n",
      "https://www.fiercebiotech.com/biotech/roche-lets-go-etro-dumping-phase-3-crohn-s-prospect-18-months-after-posting-weak-colitis\n",
      "https://www.elastic.co/blog/introduction-to-nlp-with-pytorch-models\n",
      "https://eng.uber.com/deepeta-how-uber-predicts-arrival-times/\n",
      "https://www.bursamalaysia.com/trade/trading_resources/listing_directory/company-profile?stock_code=5196\n",
      "https://www.linkedin.com/pulse/why-i-like-berjaya-food-berhad-5196kl-aaron-pek-acca\n",
      "https://valueinvesting.substack.com/p/bjfood\n",
      "https://www.linkedin.com/pulse/wellcall-holdings-bhd-7231kl-put-stock-your-aaron-pek-acca/\n",
      "http://sleepwellinvesting.blogspot.com/2011/12/malaysia-smelting-corporation-vs.html?m=1\n",
      "https://themalaysianreserve.com/2022/02/19/crisis-in-chinas-property-industry-deepens-with-no-end-in-sight/\n",
      "https://secure8.itradecimb.com.my/gcCIMBNEW/web/html/cliLoginMobile.html?t=1645612070420\n",
      "https://www.washingtonpost.com/health/2022/02/19/act-therapy-techniques/\n",
      "https://datatalks.club/podcast/s07e05-machine-learning-system-design-interview.html\n",
      "https://analyticsindiamag.com/top-15-forgotten-ml-algorithms/\n",
      "https://www.bloomberg.com/opinion/articles/2022-03-16/too-big-to-fail-risk-looms-over-commodities\n",
      "https://analyticsindiamag.com/a-beginners-guide-to-bayesian-cnn/\n",
      "https://github.blog/2022-03-29-career-tips-for-beginner-developers/\n",
      "https://devops.com/sre-vs-platform-engineering-whats-the-difference/\n",
      "https://blog.getambassador.io/is-platform-engineering-the-new-devops-or-sre-472ed97a1885\n",
      "https://www.freecodecamp.org/news/what-does-a-junior-developer-do-on-the-job/\n",
      "https://blog.gregbrockman.com/its-time-to-become-an-ml-engineer\n",
      "https://m.facebook.com/story.php?story_fbid=404504998344542&id=100063551355037&m_entstream_source=feed_mobile\n",
      "https://towardsdatascience.com/becoming-a-real-data-analyst-dcaf5f48bc34\n",
      "https://www.analyticsinsight.net/ml-models-and-intelligent-automation-key-to-decentralized-learning/\n",
      "https://soyacincau.com/2022/04/22/request-refund-old-touch-n-go-card-balance-transfer-enhanced-tng-card-nfc/\n",
      "https://www.mckinsey.com/business-functions/operations/our-insights/digital-twins-the-art-of-the-possible-in-product-development-and-beyond\n",
      "https://techcrunch.com/2022/04/28/synthesis-ai-raises-17m-to-generate-synthetic-data-for-computer-vision/\n",
      "https://betterprogramming.pub/writing-code-is-one-thing-learning-to-be-a-software-engineer-is-another-9d5c6fc5d6a8\n",
      "https://www.forbes.com/sites/tomcoughlin/2022/04/28/data-center-sustainability-using-digital-twins-and-seagate-data-center-sustainability/?sh=5537d6947f91\n",
      "https://spacenews.com/synthetic-data-geoint/\n",
      "https://www.techrepublic.com/article/synthetic-data-power-future-ai/\n",
      "https://www.geoweeknews.com/news/amazon-launches-aws-iot-twinmaker-to-accelerate-digital-twin-creation\n",
      "https://www.cnbc.com/2022/04/29/the-top-10-fully-remote-companies-to-work-for-in-2022.html\n",
      "https://towardsdatascience.com/why-i-left-mckinsey-as-a-data-scientist-30eec01504e5\n"
     ]
    }
   ],
   "source": [
    "for i in data['roots']['synced']['children']:\n",
    "    print(i['url'])"
   ]
  },
  {
   "cell_type": "code",
   "execution_count": null,
   "id": "e91035e6-27c0-4476-8e3a-e0720d015b5a",
   "metadata": {},
   "outputs": [],
   "source": []
  }
 ],
 "metadata": {
  "kernelspec": {
   "display_name": "Python 3 (ipykernel)",
   "language": "python",
   "name": "python3"
  },
  "language_info": {
   "codemirror_mode": {
    "name": "ipython",
    "version": 3
   },
   "file_extension": ".py",
   "mimetype": "text/x-python",
   "name": "python",
   "nbconvert_exporter": "python",
   "pygments_lexer": "ipython3",
   "version": "3.7.12"
  }
 },
 "nbformat": 4,
 "nbformat_minor": 5
}
